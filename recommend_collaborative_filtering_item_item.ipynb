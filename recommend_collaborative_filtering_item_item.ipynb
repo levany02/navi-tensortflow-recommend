{
 "cells": [
  {
   "cell_type": "code",
   "execution_count": 1,
   "id": "4d531246",
   "metadata": {},
   "outputs": [],
   "source": [
    "from pymongo import MongoClient"
   ]
  },
  {
   "cell_type": "code",
   "execution_count": 2,
   "id": "6975e6a7",
   "metadata": {},
   "outputs": [],
   "source": [
    "mongo = MongoClient()"
   ]
  },
  {
   "cell_type": "code",
   "execution_count": 3,
   "id": "546c264b",
   "metadata": {},
   "outputs": [],
   "source": [
    "data = list(mongo.data_3.events.find({},{\"userid\": 1, \"jobId\": 1}))"
   ]
  },
  {
   "cell_type": "code",
   "execution_count": 4,
   "id": "5ec9dd02",
   "metadata": {},
   "outputs": [],
   "source": [
    "meta_data = list(mongo.data_3.data.find({},{\"tag\": 0, \"_id\": 0}))"
   ]
  },
  {
   "cell_type": "code",
   "execution_count": 5,
   "id": "68737ce4",
   "metadata": {},
   "outputs": [
    {
     "data": {
      "text/plain": [
       "{'jobId': 'Job_Fresher_Backend_Developer_other_Fresher_YY9HOS',\n",
       " 'title': 'Fresher Backend Developer',\n",
       " 'location': 'other',\n",
       " 'skill': ['API', 'Backend', 'System', 'System', 'Java'],\n",
       " 'salary': 785,\n",
       " 'level': 'Fresher'}"
      ]
     },
     "execution_count": 5,
     "metadata": {},
     "output_type": "execute_result"
    }
   ],
   "source": [
    "meta_data[0]"
   ]
  },
  {
   "cell_type": "code",
   "execution_count": 6,
   "id": "6c8a6892",
   "metadata": {},
   "outputs": [],
   "source": [
    "import pandas as pd"
   ]
  },
  {
   "cell_type": "code",
   "execution_count": 7,
   "id": "a94799e0",
   "metadata": {},
   "outputs": [],
   "source": [
    "df = pd.DataFrame(data)"
   ]
  },
  {
   "cell_type": "code",
   "execution_count": 8,
   "id": "1519cc21",
   "metadata": {},
   "outputs": [
    {
     "data": {
      "text/html": [
       "<div>\n",
       "<style scoped>\n",
       "    .dataframe tbody tr th:only-of-type {\n",
       "        vertical-align: middle;\n",
       "    }\n",
       "\n",
       "    .dataframe tbody tr th {\n",
       "        vertical-align: top;\n",
       "    }\n",
       "\n",
       "    .dataframe thead th {\n",
       "        text-align: right;\n",
       "    }\n",
       "</style>\n",
       "<table border=\"1\" class=\"dataframe\">\n",
       "  <thead>\n",
       "    <tr style=\"text-align: right;\">\n",
       "      <th></th>\n",
       "      <th>_id</th>\n",
       "      <th>userid</th>\n",
       "      <th>jobId</th>\n",
       "    </tr>\n",
       "  </thead>\n",
       "  <tbody>\n",
       "    <tr>\n",
       "      <th>0</th>\n",
       "      <td>641957cff0faf23654da99f4</td>\n",
       "      <td>User_Junior_Backend_HN_2</td>\n",
       "      <td>Job_Fresher_Backend_Developer_other_Fresher_YY...</td>\n",
       "    </tr>\n",
       "    <tr>\n",
       "      <th>1</th>\n",
       "      <td>641957cff0faf23654da99f5</td>\n",
       "      <td>User_Fresher_Backend_HCM_87</td>\n",
       "      <td>Job_Fresher_Backend_Developer_other_Fresher_YY...</td>\n",
       "    </tr>\n",
       "    <tr>\n",
       "      <th>2</th>\n",
       "      <td>641957cff0faf23654da99f6</td>\n",
       "      <td>User_Junior_Backend_HN_22</td>\n",
       "      <td>Job_Fresher_Backend_Developer_other_Fresher_YY...</td>\n",
       "    </tr>\n",
       "    <tr>\n",
       "      <th>3</th>\n",
       "      <td>641957cff0faf23654da99f7</td>\n",
       "      <td>User_Fresher_Backend_HCM_54</td>\n",
       "      <td>Job_Fresher_Backend_Developer_other_Fresher_YY...</td>\n",
       "    </tr>\n",
       "    <tr>\n",
       "      <th>4</th>\n",
       "      <td>641957cff0faf23654da99f8</td>\n",
       "      <td>User_Junior_Backend_HCM_28</td>\n",
       "      <td>Job_Fresher_Backend_Developer_other_Fresher_YY...</td>\n",
       "    </tr>\n",
       "  </tbody>\n",
       "</table>\n",
       "</div>"
      ],
      "text/plain": [
       "                        _id                       userid  \\\n",
       "0  641957cff0faf23654da99f4     User_Junior_Backend_HN_2   \n",
       "1  641957cff0faf23654da99f5  User_Fresher_Backend_HCM_87   \n",
       "2  641957cff0faf23654da99f6    User_Junior_Backend_HN_22   \n",
       "3  641957cff0faf23654da99f7  User_Fresher_Backend_HCM_54   \n",
       "4  641957cff0faf23654da99f8   User_Junior_Backend_HCM_28   \n",
       "\n",
       "                                               jobId  \n",
       "0  Job_Fresher_Backend_Developer_other_Fresher_YY...  \n",
       "1  Job_Fresher_Backend_Developer_other_Fresher_YY...  \n",
       "2  Job_Fresher_Backend_Developer_other_Fresher_YY...  \n",
       "3  Job_Fresher_Backend_Developer_other_Fresher_YY...  \n",
       "4  Job_Fresher_Backend_Developer_other_Fresher_YY...  "
      ]
     },
     "execution_count": 8,
     "metadata": {},
     "output_type": "execute_result"
    }
   ],
   "source": [
    "df.head()"
   ]
  },
  {
   "cell_type": "code",
   "execution_count": 9,
   "id": "3a528820",
   "metadata": {},
   "outputs": [
    {
     "data": {
      "text/plain": [
       "User_Fresher_Front-end_other_15    1.0\n",
       "User_Leader_Data_other_30          1.0\n",
       "User_Leader_Devops_other_28        1.0\n",
       "User_Leader_Backend_other_30       1.0\n",
       "User_Leader_Backend_other_28       1.0\n",
       "                                  ... \n",
       "User_Fresher_Devops_HN_90          1.0\n",
       "User_Middle_Backend_other_12       1.0\n",
       "User_Fresher_Devops_other_33       1.0\n",
       "User_Fresher_Devops_HN_80          1.0\n",
       "User_Junior_Devops_other_30        1.0\n",
       "Name: userid, Length: 828, dtype: float64"
      ]
     },
     "execution_count": 9,
     "metadata": {},
     "output_type": "execute_result"
    }
   ],
   "source": [
    "s = df.userid.value_counts()\n",
    "s.where(s==1).dropna()"
   ]
  },
  {
   "cell_type": "code",
   "execution_count": 10,
   "id": "d4dc4ac3",
   "metadata": {},
   "outputs": [],
   "source": [
    "df_1 = df.groupby([\"userid\"]).aggregate({\"jobId\": list}).reset_index()"
   ]
  },
  {
   "cell_type": "code",
   "execution_count": 11,
   "id": "86766336",
   "metadata": {},
   "outputs": [],
   "source": [
    "df_1[\"num_items\"] = df_1.jobId.str.len()"
   ]
  },
  {
   "cell_type": "code",
   "execution_count": 12,
   "id": "6c65654a",
   "metadata": {},
   "outputs": [
    {
     "data": {
      "text/html": [
       "<div>\n",
       "<style scoped>\n",
       "    .dataframe tbody tr th:only-of-type {\n",
       "        vertical-align: middle;\n",
       "    }\n",
       "\n",
       "    .dataframe tbody tr th {\n",
       "        vertical-align: top;\n",
       "    }\n",
       "\n",
       "    .dataframe thead th {\n",
       "        text-align: right;\n",
       "    }\n",
       "</style>\n",
       "<table border=\"1\" class=\"dataframe\">\n",
       "  <thead>\n",
       "    <tr style=\"text-align: right;\">\n",
       "      <th></th>\n",
       "      <th>userid</th>\n",
       "      <th>jobId</th>\n",
       "      <th>num_items</th>\n",
       "    </tr>\n",
       "  </thead>\n",
       "  <tbody>\n",
       "    <tr>\n",
       "      <th>0</th>\n",
       "      <td>User_Fresher_Backend_DN_0</td>\n",
       "      <td>[Job_Fresher_Backend_Engineer_DN_Fresher_FL62T...</td>\n",
       "      <td>3</td>\n",
       "    </tr>\n",
       "    <tr>\n",
       "      <th>1</th>\n",
       "      <td>User_Fresher_Backend_DN_1</td>\n",
       "      <td>[Job_Fresher_Devops_DN_Fresher_KMTANQ, Job_Fre...</td>\n",
       "      <td>2</td>\n",
       "    </tr>\n",
       "    <tr>\n",
       "      <th>2</th>\n",
       "      <td>User_Fresher_Backend_DN_10</td>\n",
       "      <td>[Job_Fresher_Backend_Engineer_other_Fresher_U9...</td>\n",
       "      <td>2</td>\n",
       "    </tr>\n",
       "    <tr>\n",
       "      <th>3</th>\n",
       "      <td>User_Fresher_Backend_DN_100</td>\n",
       "      <td>[Job_Fresher_Backend_Engineer_other_Fresher_QM...</td>\n",
       "      <td>5</td>\n",
       "    </tr>\n",
       "    <tr>\n",
       "      <th>4</th>\n",
       "      <td>User_Fresher_Backend_DN_11</td>\n",
       "      <td>[Job_Fresher_Backend_Engineer_HN_Fresher_3JRIX...</td>\n",
       "      <td>2</td>\n",
       "    </tr>\n",
       "    <tr>\n",
       "      <th>...</th>\n",
       "      <td>...</td>\n",
       "      <td>...</td>\n",
       "      <td>...</td>\n",
       "    </tr>\n",
       "    <tr>\n",
       "      <th>7312</th>\n",
       "      <td>User_Senior_Front-end_other_82</td>\n",
       "      <td>[Job_Leader_Front-end_Developer_HCM_Leader_TS8...</td>\n",
       "      <td>2</td>\n",
       "    </tr>\n",
       "    <tr>\n",
       "      <th>7313</th>\n",
       "      <td>User_Senior_Front-end_other_83</td>\n",
       "      <td>[Job_Senior_Front-end_Engineer_HCM_Senior_723T...</td>\n",
       "      <td>3</td>\n",
       "    </tr>\n",
       "    <tr>\n",
       "      <th>7314</th>\n",
       "      <td>User_Senior_Front-end_other_85</td>\n",
       "      <td>[Job_Senior_Front-end_Developer_HN_Senior_DPYM...</td>\n",
       "      <td>2</td>\n",
       "    </tr>\n",
       "    <tr>\n",
       "      <th>7318</th>\n",
       "      <td>User_Senior_Front-end_other_9</td>\n",
       "      <td>[Job_Senior_Front-end_Engineer_other_Senior_KX...</td>\n",
       "      <td>2</td>\n",
       "    </tr>\n",
       "    <tr>\n",
       "      <th>7323</th>\n",
       "      <td>User_Senior_Front-end_other_97</td>\n",
       "      <td>[Job_Junior_Front-end_Developer_HCM_Junior_QBB...</td>\n",
       "      <td>2</td>\n",
       "    </tr>\n",
       "  </tbody>\n",
       "</table>\n",
       "<p>6498 rows × 3 columns</p>\n",
       "</div>"
      ],
      "text/plain": [
       "                              userid  \\\n",
       "0          User_Fresher_Backend_DN_0   \n",
       "1          User_Fresher_Backend_DN_1   \n",
       "2         User_Fresher_Backend_DN_10   \n",
       "3        User_Fresher_Backend_DN_100   \n",
       "4         User_Fresher_Backend_DN_11   \n",
       "...                              ...   \n",
       "7312  User_Senior_Front-end_other_82   \n",
       "7313  User_Senior_Front-end_other_83   \n",
       "7314  User_Senior_Front-end_other_85   \n",
       "7318   User_Senior_Front-end_other_9   \n",
       "7323  User_Senior_Front-end_other_97   \n",
       "\n",
       "                                                  jobId  num_items  \n",
       "0     [Job_Fresher_Backend_Engineer_DN_Fresher_FL62T...          3  \n",
       "1     [Job_Fresher_Devops_DN_Fresher_KMTANQ, Job_Fre...          2  \n",
       "2     [Job_Fresher_Backend_Engineer_other_Fresher_U9...          2  \n",
       "3     [Job_Fresher_Backend_Engineer_other_Fresher_QM...          5  \n",
       "4     [Job_Fresher_Backend_Engineer_HN_Fresher_3JRIX...          2  \n",
       "...                                                 ...        ...  \n",
       "7312  [Job_Leader_Front-end_Developer_HCM_Leader_TS8...          2  \n",
       "7313  [Job_Senior_Front-end_Engineer_HCM_Senior_723T...          3  \n",
       "7314  [Job_Senior_Front-end_Developer_HN_Senior_DPYM...          2  \n",
       "7318  [Job_Senior_Front-end_Engineer_other_Senior_KX...          2  \n",
       "7323  [Job_Junior_Front-end_Developer_HCM_Junior_QBB...          2  \n",
       "\n",
       "[6498 rows x 3 columns]"
      ]
     },
     "execution_count": 12,
     "metadata": {},
     "output_type": "execute_result"
    }
   ],
   "source": [
    "df_1[df_1[\"num_items\"] > 1]"
   ]
  },
  {
   "cell_type": "code",
   "execution_count": 13,
   "id": "fb0e7204",
   "metadata": {},
   "outputs": [],
   "source": [
    "import itertools\n",
    "from functools import reduce\n",
    "\n",
    "\n",
    "def create_pair_items(lst_items):\n",
    "    return list(itertools.combinations(lst_items, 2))"
   ]
  },
  {
   "cell_type": "code",
   "execution_count": 14,
   "id": "937e50d3",
   "metadata": {},
   "outputs": [],
   "source": [
    "item_item_data = reduce(lambda x, y: x + y, list([create_pair_items(i) for i in df_1.jobId.values.tolist()]))"
   ]
  },
  {
   "cell_type": "code",
   "execution_count": 15,
   "id": "ea215d26",
   "metadata": {},
   "outputs": [
    {
     "data": {
      "text/plain": [
       "201733"
      ]
     },
     "execution_count": 15,
     "metadata": {},
     "output_type": "execute_result"
    }
   ],
   "source": [
    "len(item_item_data)"
   ]
  },
  {
   "cell_type": "code",
   "execution_count": 16,
   "id": "c89a66f6",
   "metadata": {},
   "outputs": [],
   "source": [
    "df_2 = pd.DataFrame(item_item_data, columns=[\"item1\", \"item2\"])"
   ]
  },
  {
   "cell_type": "code",
   "execution_count": 17,
   "id": "3970361d",
   "metadata": {},
   "outputs": [
    {
     "data": {
      "text/html": [
       "<div>\n",
       "<style scoped>\n",
       "    .dataframe tbody tr th:only-of-type {\n",
       "        vertical-align: middle;\n",
       "    }\n",
       "\n",
       "    .dataframe tbody tr th {\n",
       "        vertical-align: top;\n",
       "    }\n",
       "\n",
       "    .dataframe thead th {\n",
       "        text-align: right;\n",
       "    }\n",
       "</style>\n",
       "<table border=\"1\" class=\"dataframe\">\n",
       "  <thead>\n",
       "    <tr style=\"text-align: right;\">\n",
       "      <th></th>\n",
       "      <th>item1</th>\n",
       "      <th>item2</th>\n",
       "    </tr>\n",
       "  </thead>\n",
       "  <tbody>\n",
       "    <tr>\n",
       "      <th>0</th>\n",
       "      <td>Job_Fresher_Backend_Engineer_DN_Fresher_FL62TZ</td>\n",
       "      <td>Job_Fresher_Backend_Engineer_other_Fresher_F6SGNV</td>\n",
       "    </tr>\n",
       "    <tr>\n",
       "      <th>1</th>\n",
       "      <td>Job_Fresher_Backend_Engineer_DN_Fresher_FL62TZ</td>\n",
       "      <td>Job_Fresher_Backend_Engineer_other_Fresher_U96NGQ</td>\n",
       "    </tr>\n",
       "    <tr>\n",
       "      <th>2</th>\n",
       "      <td>Job_Fresher_Backend_Engineer_other_Fresher_F6SGNV</td>\n",
       "      <td>Job_Fresher_Backend_Engineer_other_Fresher_U96NGQ</td>\n",
       "    </tr>\n",
       "    <tr>\n",
       "      <th>3</th>\n",
       "      <td>Job_Fresher_Devops_DN_Fresher_KMTANQ</td>\n",
       "      <td>Job_Fresher_Data_Engineer_other_Fresher_7CZYYC</td>\n",
       "    </tr>\n",
       "    <tr>\n",
       "      <th>4</th>\n",
       "      <td>Job_Fresher_Backend_Engineer_other_Fresher_U96NGQ</td>\n",
       "      <td>Job_Fresher_Backend_Developer_DN_Fresher_3JKXHO</td>\n",
       "    </tr>\n",
       "  </tbody>\n",
       "</table>\n",
       "</div>"
      ],
      "text/plain": [
       "                                               item1  \\\n",
       "0     Job_Fresher_Backend_Engineer_DN_Fresher_FL62TZ   \n",
       "1     Job_Fresher_Backend_Engineer_DN_Fresher_FL62TZ   \n",
       "2  Job_Fresher_Backend_Engineer_other_Fresher_F6SGNV   \n",
       "3               Job_Fresher_Devops_DN_Fresher_KMTANQ   \n",
       "4  Job_Fresher_Backend_Engineer_other_Fresher_U96NGQ   \n",
       "\n",
       "                                               item2  \n",
       "0  Job_Fresher_Backend_Engineer_other_Fresher_F6SGNV  \n",
       "1  Job_Fresher_Backend_Engineer_other_Fresher_U96NGQ  \n",
       "2  Job_Fresher_Backend_Engineer_other_Fresher_U96NGQ  \n",
       "3     Job_Fresher_Data_Engineer_other_Fresher_7CZYYC  \n",
       "4    Job_Fresher_Backend_Developer_DN_Fresher_3JKXHO  "
      ]
     },
     "execution_count": 17,
     "metadata": {},
     "output_type": "execute_result"
    }
   ],
   "source": [
    "df_2.head()"
   ]
  },
  {
   "cell_type": "code",
   "execution_count": 18,
   "id": "e1b50590",
   "metadata": {},
   "outputs": [],
   "source": [
    "meta_df = pd.DataFrame(meta_data)"
   ]
  },
  {
   "cell_type": "code",
   "execution_count": 19,
   "id": "429b7155",
   "metadata": {},
   "outputs": [],
   "source": [
    "df_2 = df_2.merge(meta_df, how=\"left\", left_on=\"item1\", right_on=\"jobId\")\n",
    "df_2 = df_2.merge(meta_df, how=\"left\", left_on=\"item2\", right_on=\"jobId\", suffixes=(\"_item1\", \"_item2\"))"
   ]
  },
  {
   "cell_type": "code",
   "execution_count": 20,
   "id": "7ccc43d2",
   "metadata": {},
   "outputs": [
    {
     "data": {
      "text/html": [
       "<div>\n",
       "<style scoped>\n",
       "    .dataframe tbody tr th:only-of-type {\n",
       "        vertical-align: middle;\n",
       "    }\n",
       "\n",
       "    .dataframe tbody tr th {\n",
       "        vertical-align: top;\n",
       "    }\n",
       "\n",
       "    .dataframe thead th {\n",
       "        text-align: right;\n",
       "    }\n",
       "</style>\n",
       "<table border=\"1\" class=\"dataframe\">\n",
       "  <thead>\n",
       "    <tr style=\"text-align: right;\">\n",
       "      <th></th>\n",
       "      <th>item1</th>\n",
       "      <th>item2</th>\n",
       "      <th>jobId_item1</th>\n",
       "      <th>title_item1</th>\n",
       "      <th>location_item1</th>\n",
       "      <th>skill_item1</th>\n",
       "      <th>salary_item1</th>\n",
       "      <th>level_item1</th>\n",
       "      <th>jobId_item2</th>\n",
       "      <th>title_item2</th>\n",
       "      <th>location_item2</th>\n",
       "      <th>skill_item2</th>\n",
       "      <th>salary_item2</th>\n",
       "      <th>level_item2</th>\n",
       "    </tr>\n",
       "  </thead>\n",
       "  <tbody>\n",
       "    <tr>\n",
       "      <th>0</th>\n",
       "      <td>Job_Fresher_Backend_Engineer_DN_Fresher_FL62TZ</td>\n",
       "      <td>Job_Fresher_Backend_Engineer_other_Fresher_F6SGNV</td>\n",
       "      <td>Job_Fresher_Backend_Engineer_DN_Fresher_FL62TZ</td>\n",
       "      <td>Fresher Backend Engineer</td>\n",
       "      <td>DN</td>\n",
       "      <td>[Backend, System, PHP, ReactJS, Java]</td>\n",
       "      <td>919</td>\n",
       "      <td>Fresher</td>\n",
       "      <td>Job_Fresher_Backend_Engineer_other_Fresher_F6SGNV</td>\n",
       "      <td>Fresher Backend Engineer</td>\n",
       "      <td>other</td>\n",
       "      <td>[API, Backend, PHP, System, Java]</td>\n",
       "      <td>952</td>\n",
       "      <td>Fresher</td>\n",
       "    </tr>\n",
       "    <tr>\n",
       "      <th>1</th>\n",
       "      <td>Job_Fresher_Backend_Engineer_DN_Fresher_FL62TZ</td>\n",
       "      <td>Job_Fresher_Backend_Engineer_other_Fresher_U96NGQ</td>\n",
       "      <td>Job_Fresher_Backend_Engineer_DN_Fresher_FL62TZ</td>\n",
       "      <td>Fresher Backend Engineer</td>\n",
       "      <td>DN</td>\n",
       "      <td>[Backend, System, PHP, ReactJS, Java]</td>\n",
       "      <td>919</td>\n",
       "      <td>Fresher</td>\n",
       "      <td>Job_Fresher_Backend_Engineer_other_Fresher_U96NGQ</td>\n",
       "      <td>Fresher Backend Engineer</td>\n",
       "      <td>other</td>\n",
       "      <td>[Golang, Java, English, Golang, English]</td>\n",
       "      <td>972</td>\n",
       "      <td>Fresher</td>\n",
       "    </tr>\n",
       "    <tr>\n",
       "      <th>2</th>\n",
       "      <td>Job_Fresher_Backend_Engineer_other_Fresher_F6SGNV</td>\n",
       "      <td>Job_Fresher_Backend_Engineer_other_Fresher_U96NGQ</td>\n",
       "      <td>Job_Fresher_Backend_Engineer_other_Fresher_F6SGNV</td>\n",
       "      <td>Fresher Backend Engineer</td>\n",
       "      <td>other</td>\n",
       "      <td>[API, Backend, PHP, System, Java]</td>\n",
       "      <td>952</td>\n",
       "      <td>Fresher</td>\n",
       "      <td>Job_Fresher_Backend_Engineer_other_Fresher_U96NGQ</td>\n",
       "      <td>Fresher Backend Engineer</td>\n",
       "      <td>other</td>\n",
       "      <td>[Golang, Java, English, Golang, English]</td>\n",
       "      <td>972</td>\n",
       "      <td>Fresher</td>\n",
       "    </tr>\n",
       "    <tr>\n",
       "      <th>3</th>\n",
       "      <td>Job_Fresher_Devops_DN_Fresher_KMTANQ</td>\n",
       "      <td>Job_Fresher_Data_Engineer_other_Fresher_7CZYYC</td>\n",
       "      <td>Job_Fresher_Devops_DN_Fresher_KMTANQ</td>\n",
       "      <td>Fresher Devops</td>\n",
       "      <td>DN</td>\n",
       "      <td>[Azure, Python, Aws, Aws, Aws]</td>\n",
       "      <td>1147</td>\n",
       "      <td>Fresher</td>\n",
       "      <td>Job_Fresher_Data_Engineer_other_Fresher_7CZYYC</td>\n",
       "      <td>Fresher Data Engineer</td>\n",
       "      <td>other</td>\n",
       "      <td>[Machine Learning, Spark, Java, HDFS, Data Eng...</td>\n",
       "      <td>1339</td>\n",
       "      <td>Fresher</td>\n",
       "    </tr>\n",
       "    <tr>\n",
       "      <th>4</th>\n",
       "      <td>Job_Fresher_Backend_Engineer_other_Fresher_U96NGQ</td>\n",
       "      <td>Job_Fresher_Backend_Developer_DN_Fresher_3JKXHO</td>\n",
       "      <td>Job_Fresher_Backend_Engineer_other_Fresher_U96NGQ</td>\n",
       "      <td>Fresher Backend Engineer</td>\n",
       "      <td>other</td>\n",
       "      <td>[Golang, Java, English, Golang, English]</td>\n",
       "      <td>972</td>\n",
       "      <td>Fresher</td>\n",
       "      <td>Job_Fresher_Backend_Developer_DN_Fresher_3JKXHO</td>\n",
       "      <td>Fresher Backend Developer</td>\n",
       "      <td>DN</td>\n",
       "      <td>[Backend, ReactJS, ReactJS, ReactJS, ReactJS]</td>\n",
       "      <td>1164</td>\n",
       "      <td>Fresher</td>\n",
       "    </tr>\n",
       "  </tbody>\n",
       "</table>\n",
       "</div>"
      ],
      "text/plain": [
       "                                               item1  \\\n",
       "0     Job_Fresher_Backend_Engineer_DN_Fresher_FL62TZ   \n",
       "1     Job_Fresher_Backend_Engineer_DN_Fresher_FL62TZ   \n",
       "2  Job_Fresher_Backend_Engineer_other_Fresher_F6SGNV   \n",
       "3               Job_Fresher_Devops_DN_Fresher_KMTANQ   \n",
       "4  Job_Fresher_Backend_Engineer_other_Fresher_U96NGQ   \n",
       "\n",
       "                                               item2  \\\n",
       "0  Job_Fresher_Backend_Engineer_other_Fresher_F6SGNV   \n",
       "1  Job_Fresher_Backend_Engineer_other_Fresher_U96NGQ   \n",
       "2  Job_Fresher_Backend_Engineer_other_Fresher_U96NGQ   \n",
       "3     Job_Fresher_Data_Engineer_other_Fresher_7CZYYC   \n",
       "4    Job_Fresher_Backend_Developer_DN_Fresher_3JKXHO   \n",
       "\n",
       "                                         jobId_item1  \\\n",
       "0     Job_Fresher_Backend_Engineer_DN_Fresher_FL62TZ   \n",
       "1     Job_Fresher_Backend_Engineer_DN_Fresher_FL62TZ   \n",
       "2  Job_Fresher_Backend_Engineer_other_Fresher_F6SGNV   \n",
       "3               Job_Fresher_Devops_DN_Fresher_KMTANQ   \n",
       "4  Job_Fresher_Backend_Engineer_other_Fresher_U96NGQ   \n",
       "\n",
       "                title_item1 location_item1  \\\n",
       "0  Fresher Backend Engineer             DN   \n",
       "1  Fresher Backend Engineer             DN   \n",
       "2  Fresher Backend Engineer          other   \n",
       "3            Fresher Devops             DN   \n",
       "4  Fresher Backend Engineer          other   \n",
       "\n",
       "                                skill_item1  salary_item1 level_item1  \\\n",
       "0     [Backend, System, PHP, ReactJS, Java]           919     Fresher   \n",
       "1     [Backend, System, PHP, ReactJS, Java]           919     Fresher   \n",
       "2         [API, Backend, PHP, System, Java]           952     Fresher   \n",
       "3            [Azure, Python, Aws, Aws, Aws]          1147     Fresher   \n",
       "4  [Golang, Java, English, Golang, English]           972     Fresher   \n",
       "\n",
       "                                         jobId_item2  \\\n",
       "0  Job_Fresher_Backend_Engineer_other_Fresher_F6SGNV   \n",
       "1  Job_Fresher_Backend_Engineer_other_Fresher_U96NGQ   \n",
       "2  Job_Fresher_Backend_Engineer_other_Fresher_U96NGQ   \n",
       "3     Job_Fresher_Data_Engineer_other_Fresher_7CZYYC   \n",
       "4    Job_Fresher_Backend_Developer_DN_Fresher_3JKXHO   \n",
       "\n",
       "                 title_item2 location_item2  \\\n",
       "0   Fresher Backend Engineer          other   \n",
       "1   Fresher Backend Engineer          other   \n",
       "2   Fresher Backend Engineer          other   \n",
       "3      Fresher Data Engineer          other   \n",
       "4  Fresher Backend Developer             DN   \n",
       "\n",
       "                                         skill_item2  salary_item2 level_item2  \n",
       "0                  [API, Backend, PHP, System, Java]           952     Fresher  \n",
       "1           [Golang, Java, English, Golang, English]           972     Fresher  \n",
       "2           [Golang, Java, English, Golang, English]           972     Fresher  \n",
       "3  [Machine Learning, Spark, Java, HDFS, Data Eng...          1339     Fresher  \n",
       "4      [Backend, ReactJS, ReactJS, ReactJS, ReactJS]          1164     Fresher  "
      ]
     },
     "execution_count": 20,
     "metadata": {},
     "output_type": "execute_result"
    }
   ],
   "source": [
    "df_2.head()"
   ]
  },
  {
   "cell_type": "code",
   "execution_count": 21,
   "id": "a174b8fc",
   "metadata": {},
   "outputs": [
    {
     "name": "stderr",
     "output_type": "stream",
     "text": [
      "2023-03-23 17:38:54.892323: I tensorflow/core/platform/cpu_feature_guard.cc:193] This TensorFlow binary is optimized with oneAPI Deep Neural Network Library (oneDNN) to use the following CPU instructions in performance-critical operations:  AVX2 FMA\n",
      "To enable them in other operations, rebuild TensorFlow with the appropriate compiler flags.\n",
      "/home/spark/miniconda3/envs/recommend/lib/python3.9/site-packages/tqdm/auto.py:21: TqdmWarning: IProgress not found. Please update jupyter and ipywidgets. See https://ipywidgets.readthedocs.io/en/stable/user_install.html\n",
      "  from .autonotebook import tqdm as notebook_tqdm\n",
      "/tmp/ipykernel_214645/2468769046.py:13: MatplotlibDeprecationWarning: The seaborn styles shipped by Matplotlib are deprecated since 3.6, as they no longer correspond to the styles shipped by seaborn. However, they will remain available as 'seaborn-v0_8-<style>'. Alternatively, directly use the seaborn API instead.\n",
      "  plt.style.use('seaborn-whitegrid')\n"
     ]
    }
   ],
   "source": [
    "import os\n",
    "import tempfile\n",
    "\n",
    "%matplotlib inline\n",
    "import matplotlib.pyplot as plt\n",
    "\n",
    "import numpy as np\n",
    "import tensorflow as tf\n",
    "import tensorflow_datasets as tfds\n",
    "\n",
    "import tensorflow_recommenders as tfrs\n",
    "\n",
    "plt.style.use('seaborn-whitegrid')"
   ]
  },
  {
   "cell_type": "code",
   "execution_count": 22,
   "id": "ea82aa4a",
   "metadata": {},
   "outputs": [
    {
     "name": "stderr",
     "output_type": "stream",
     "text": [
      "2023-03-23 17:38:56.089870: I tensorflow/compiler/xla/stream_executor/cuda/cuda_gpu_executor.cc:981] successful NUMA node read from SysFS had negative value (-1), but there must be at least one NUMA node, so returning NUMA node zero\n",
      "2023-03-23 17:38:56.121227: I tensorflow/compiler/xla/stream_executor/cuda/cuda_gpu_executor.cc:981] successful NUMA node read from SysFS had negative value (-1), but there must be at least one NUMA node, so returning NUMA node zero\n",
      "2023-03-23 17:38:56.121393: I tensorflow/compiler/xla/stream_executor/cuda/cuda_gpu_executor.cc:981] successful NUMA node read from SysFS had negative value (-1), but there must be at least one NUMA node, so returning NUMA node zero\n",
      "2023-03-23 17:38:56.122223: I tensorflow/core/platform/cpu_feature_guard.cc:193] This TensorFlow binary is optimized with oneAPI Deep Neural Network Library (oneDNN) to use the following CPU instructions in performance-critical operations:  AVX2 FMA\n",
      "To enable them in other operations, rebuild TensorFlow with the appropriate compiler flags.\n",
      "2023-03-23 17:38:56.122722: I tensorflow/compiler/xla/stream_executor/cuda/cuda_gpu_executor.cc:981] successful NUMA node read from SysFS had negative value (-1), but there must be at least one NUMA node, so returning NUMA node zero\n",
      "2023-03-23 17:38:56.122874: I tensorflow/compiler/xla/stream_executor/cuda/cuda_gpu_executor.cc:981] successful NUMA node read from SysFS had negative value (-1), but there must be at least one NUMA node, so returning NUMA node zero\n",
      "2023-03-23 17:38:56.123014: I tensorflow/compiler/xla/stream_executor/cuda/cuda_gpu_executor.cc:981] successful NUMA node read from SysFS had negative value (-1), but there must be at least one NUMA node, so returning NUMA node zero\n",
      "2023-03-23 17:38:56.540461: I tensorflow/compiler/xla/stream_executor/cuda/cuda_gpu_executor.cc:981] successful NUMA node read from SysFS had negative value (-1), but there must be at least one NUMA node, so returning NUMA node zero\n",
      "2023-03-23 17:38:56.540622: I tensorflow/compiler/xla/stream_executor/cuda/cuda_gpu_executor.cc:981] successful NUMA node read from SysFS had negative value (-1), but there must be at least one NUMA node, so returning NUMA node zero\n",
      "2023-03-23 17:38:56.540746: I tensorflow/compiler/xla/stream_executor/cuda/cuda_gpu_executor.cc:981] successful NUMA node read from SysFS had negative value (-1), but there must be at least one NUMA node, so returning NUMA node zero\n",
      "2023-03-23 17:38:56.540853: I tensorflow/core/common_runtime/gpu/gpu_device.cc:1613] Created device /job:localhost/replica:0/task:0/device:GPU:0 with 6282 MB memory:  -> device: 0, name: NVIDIA GeForce RTX 2070, pci bus id: 0000:02:00.0, compute capability: 7.5\n"
     ]
    }
   ],
   "source": [
    "tensor_slices = {\n",
    "    \"item1\": df_2.item1.values.tolist(),\n",
    "    \"title_item1\": df_2.title_item1.values.tolist(),\n",
    "    \"location_item1\": df_2.location_item1.values.tolist(),\n",
    "    \"level_item1\": df_2.level_item1.values.tolist(),\n",
    "    \"item2\": df_2.item2.values.tolist(),\n",
    "    \"title_item2\": df_2.title_item2.values.tolist(),\n",
    "    \"location_item2\": df_2.location_item2.values.tolist(),\n",
    "    \"level_item2\": df_2.level_item2.values.tolist(),\n",
    "}\n",
    "\n",
    "jobs = tf.data.Dataset.from_tensor_slices({\n",
    "    \"item2\": meta_df.jobId.values.tolist(),\n",
    "    \"location_item2\": meta_df.location.values.tolist(),\n",
    "    \"level_item2\": meta_df.level.values.tolist(),\n",
    "})\n",
    "\n",
    "items = tf.data.Dataset.from_tensor_slices(tensor_slices)"
   ]
  },
  {
   "cell_type": "code",
   "execution_count": 23,
   "id": "50f43539",
   "metadata": {},
   "outputs": [],
   "source": [
    "unique_items = np.unique(meta_df.jobId.values.tolist())\n",
    "unique_location = np.unique(meta_df.location.values.tolist())\n",
    "unique_level = np.unique(meta_df.level.values.tolist())"
   ]
  },
  {
   "cell_type": "code",
   "execution_count": 24,
   "id": "8e89b3ed",
   "metadata": {},
   "outputs": [],
   "source": [
    "class Movie1Model(tf.keras.Model):\n",
    "\n",
    "  def __init__(self):\n",
    "    super().__init__()\n",
    "\n",
    "    max_tokens = 10_000\n",
    "\n",
    "    self.title_embedding = tf.keras.Sequential([\n",
    "      tf.keras.layers.StringLookup(\n",
    "          vocabulary=unique_items,mask_token=None),\n",
    "      tf.keras.layers.Embedding(len(unique_items) + 1, 32)\n",
    "    ])\n",
    "    self.location_embedding = tf.keras.Sequential([\n",
    "      tf.keras.layers.StringLookup(\n",
    "          vocabulary=unique_location,mask_token=None),\n",
    "      tf.keras.layers.Embedding(len(unique_location) + 1, 32)\n",
    "    ])\n",
    "    self.level_embedding = tf.keras.Sequential([\n",
    "      tf.keras.layers.StringLookup(\n",
    "          vocabulary=unique_level,mask_token=None),\n",
    "      tf.keras.layers.Embedding(len(unique_level) + 1, 32)\n",
    "    ])\n",
    "\n",
    "  def call(self, features):\n",
    "    return tf.concat([\n",
    "        self.title_embedding(features[\"item1\"]),\n",
    "        self.location_embedding(features[\"location_item1\"]),\n",
    "        self.level_embedding(features[\"level_item1\"])\n",
    "    ], axis=1)\n",
    "\n",
    "class Movie2Model(tf.keras.Model):\n",
    "\n",
    "  def __init__(self):\n",
    "    super().__init__()\n",
    "\n",
    "    max_tokens = 10_000\n",
    "\n",
    "    self.title_embedding = tf.keras.Sequential([\n",
    "      tf.keras.layers.StringLookup(\n",
    "          vocabulary=unique_items,mask_token=None),\n",
    "      tf.keras.layers.Embedding(len(unique_items) + 1, 32)\n",
    "    ])\n",
    "    self.location_embedding = tf.keras.Sequential([\n",
    "      tf.keras.layers.StringLookup(\n",
    "          vocabulary=unique_location,mask_token=None),\n",
    "      tf.keras.layers.Embedding(len(unique_location) + 1, 32)\n",
    "    ])\n",
    "    self.level_embedding = tf.keras.Sequential([\n",
    "      tf.keras.layers.StringLookup(\n",
    "          vocabulary=unique_level,mask_token=None),\n",
    "      tf.keras.layers.Embedding(len(unique_level) + 1, 32)\n",
    "    ])\n",
    "\n",
    "  def call(self, features):\n",
    "    return tf.concat([\n",
    "        self.title_embedding(features[\"item2\"]),\n",
    "        self.location_embedding(features[\"location_item2\"]),\n",
    "        self.level_embedding(features[\"level_item2\"])\n",
    "    ], axis=1)"
   ]
  },
  {
   "cell_type": "code",
   "execution_count": 25,
   "id": "59e49af0",
   "metadata": {},
   "outputs": [],
   "source": [
    "class MovielensModel(tfrs.Model):\n",
    "\n",
    "  def __init__(self):\n",
    "    super().__init__()\n",
    "    self.movie_1_model: tf.keras.Model = Movie1Model()\n",
    "    self.movie_2_model: tf.keras.Model = Movie2Model()\n",
    "    self.task: tf.keras.layers.Layer = tfrs.tasks.Retrieval(\n",
    "        metrics=tfrs.metrics.FactorizedTopK(\n",
    "          candidates=jobs.batch(128).map(self.movie_2_model)\n",
    "        )\n",
    "    )\n",
    "\n",
    "  def compute_loss(self, features, training=False) -> tf.Tensor:\n",
    "    # We pick out the user features and pass them into the user model.\n",
    "    movie_1_embeddings = self.movie_1_model(features)\n",
    "    # And pick out the movie features and pass them into the movie model,\n",
    "    # getting embeddings back.\n",
    "    movie_2_embeddings = self.movie_2_model(features)\n",
    "\n",
    "    # The task computes the loss and the metrics.\n",
    "    return self.task(movie_1_embeddings, movie_2_embeddings)"
   ]
  },
  {
   "cell_type": "code",
   "execution_count": 26,
   "id": "6dceee2e",
   "metadata": {},
   "outputs": [],
   "source": [
    "model = MovielensModel()\n",
    "model.compile(optimizer=tf.keras.optimizers.Adagrad(learning_rate=0.1))"
   ]
  },
  {
   "cell_type": "code",
   "execution_count": 27,
   "id": "d6f418de",
   "metadata": {},
   "outputs": [],
   "source": [
    "tf.random.set_seed(42)\n",
    "shuffled = items.shuffle(100_000, seed=42, reshuffle_each_iteration=False)\n",
    "\n",
    "train = shuffled.take(80_000)\n",
    "test = shuffled.skip(80_000).take(20_000)\n",
    "\n",
    "cached_train = train.shuffle(100_000).batch(2048)\n",
    "cached_test = test.batch(4096).cache()"
   ]
  },
  {
   "cell_type": "code",
   "execution_count": 28,
   "id": "99925776",
   "metadata": {},
   "outputs": [
    {
     "name": "stdout",
     "output_type": "stream",
     "text": [
      "Epoch 1/3\n",
      "WARNING:tensorflow:From /home/spark/miniconda3/envs/recommend/lib/python3.9/site-packages/tensorflow/python/autograph/pyct/static_analysis/liveness.py:83: Analyzer.lamba_check (from tensorflow.python.autograph.pyct.static_analysis.liveness) is deprecated and will be removed after 2023-09-23.\n",
      "Instructions for updating:\n",
      "Lambda fuctions will be no more assumed to be used in the statement where they are used, or at least in the same block. https://github.com/tensorflow/tensorflow/issues/56089\n"
     ]
    },
    {
     "name": "stderr",
     "output_type": "stream",
     "text": [
      "2023-03-23 17:39:00.342209: I tensorflow/compiler/xla/service/service.cc:173] XLA service 0x7fb1a86d6350 initialized for platform CUDA (this does not guarantee that XLA will be used). Devices:\n",
      "2023-03-23 17:39:00.342229: I tensorflow/compiler/xla/service/service.cc:181]   StreamExecutor device (0): NVIDIA GeForce RTX 2070, Compute Capability 7.5\n",
      "2023-03-23 17:39:00.344913: I tensorflow/compiler/mlir/tensorflow/utils/dump_mlir_util.cc:268] disabling MLIR crash reproducer, set env var `MLIR_CRASH_REPRODUCER_DIRECTORY` to enable.\n",
      "2023-03-23 17:39:00.395393: W tensorflow/compiler/xla/stream_executor/gpu/asm_compiler.cc:115] *** WARNING *** You are using ptxas 10.1.243, which is older than 11.1. ptxas before 11.1 is known to miscompile XLA code, leading to incorrect results or invalid-address errors.\n",
      "\n",
      "You may not need to update to CUDA 11.1; cherry-picking the ptxas binary is often sufficient.\n",
      "2023-03-23 17:39:00.427390: I tensorflow/compiler/jit/xla_compilation_cache.cc:477] Compiled cluster using XLA!  This line is logged at most once for the lifetime of the process.\n",
      "2023-03-23 17:39:00.469303: W tensorflow/compiler/xla/stream_executor/gpu/asm_compiler.cc:115] *** WARNING *** You are using ptxas 10.1.243, which is older than 11.1. ptxas before 11.1 is known to miscompile XLA code, leading to incorrect results or invalid-address errors.\n",
      "\n",
      "You may not need to update to CUDA 11.1; cherry-picking the ptxas binary is often sufficient.\n",
      "2023-03-23 17:39:00.539444: W tensorflow/compiler/xla/stream_executor/gpu/asm_compiler.cc:115] *** WARNING *** You are using ptxas 10.1.243, which is older than 11.1. ptxas before 11.1 is known to miscompile XLA code, leading to incorrect results or invalid-address errors.\n",
      "\n",
      "You may not need to update to CUDA 11.1; cherry-picking the ptxas binary is often sufficient.\n"
     ]
    },
    {
     "name": "stdout",
     "output_type": "stream",
     "text": [
      "\r",
      " 1/40 [..............................] - ETA: 1:35 - factorized_top_k/top_1_categorical_accuracy: 0.0029 - factorized_top_k/top_5_categorical_accuracy: 0.0127 - factorized_top_k/top_10_categorical_accuracy: 0.0337 - factorized_top_k/top_50_categorical_accuracy: 0.1709 - factorized_top_k/top_100_categorical_accuracy: 0.3267 - loss: 15610.9336 - regularization_loss: 0.0000e+00 - total_loss: 15610.9336"
     ]
    },
    {
     "name": "stderr",
     "output_type": "stream",
     "text": [
      "2023-03-23 17:39:00.612336: W tensorflow/compiler/xla/stream_executor/gpu/asm_compiler.cc:115] *** WARNING *** You are using ptxas 10.1.243, which is older than 11.1. ptxas before 11.1 is known to miscompile XLA code, leading to incorrect results or invalid-address errors.\n",
      "\n",
      "You may not need to update to CUDA 11.1; cherry-picking the ptxas binary is often sufficient.\n",
      "2023-03-23 17:39:00.777542: W tensorflow/compiler/xla/stream_executor/gpu/asm_compiler.cc:115] *** WARNING *** You are using ptxas 10.1.243, which is older than 11.1. ptxas before 11.1 is known to miscompile XLA code, leading to incorrect results or invalid-address errors.\n",
      "\n",
      "You may not need to update to CUDA 11.1; cherry-picking the ptxas binary is often sufficient.\n",
      "2023-03-23 17:39:00.782276: W tensorflow/compiler/xla/stream_executor/gpu/asm_compiler.cc:115] *** WARNING *** You are using ptxas 10.1.243, which is older than 11.1. ptxas before 11.1 is known to miscompile XLA code, leading to incorrect results or invalid-address errors.\n",
      "\n",
      "You may not need to update to CUDA 11.1; cherry-picking the ptxas binary is often sufficient.\n"
     ]
    },
    {
     "name": "stdout",
     "output_type": "stream",
     "text": [
      " 4/40 [==>...........................] - ETA: 3s - factorized_top_k/top_1_categorical_accuracy: 0.0103 - factorized_top_k/top_5_categorical_accuracy: 0.0543 - factorized_top_k/top_10_categorical_accuracy: 0.0946 - factorized_top_k/top_50_categorical_accuracy: 0.3152 - factorized_top_k/top_100_categorical_accuracy: 0.4989 - loss: 15065.0010 - regularization_loss: 0.0000e+00 - total_loss: 15065.0010"
     ]
    },
    {
     "name": "stderr",
     "output_type": "stream",
     "text": [
      "2023-03-23 17:39:00.874469: W tensorflow/compiler/xla/stream_executor/gpu/asm_compiler.cc:115] *** WARNING *** You are using ptxas 10.1.243, which is older than 11.1. ptxas before 11.1 is known to miscompile XLA code, leading to incorrect results or invalid-address errors.\n",
      "\n",
      "You may not need to update to CUDA 11.1; cherry-picking the ptxas binary is often sufficient.\n",
      "2023-03-23 17:39:00.948021: W tensorflow/compiler/xla/stream_executor/gpu/asm_compiler.cc:115] *** WARNING *** You are using ptxas 10.1.243, which is older than 11.1. ptxas before 11.1 is known to miscompile XLA code, leading to incorrect results or invalid-address errors.\n",
      "\n",
      "You may not need to update to CUDA 11.1; cherry-picking the ptxas binary is often sufficient.\n"
     ]
    },
    {
     "name": "stdout",
     "output_type": "stream",
     "text": [
      "\b\b\b\b\b\b\b\b\b\b\b\b\b\b\b\b\b\b\b\b\b\b\b\b\b\b\b\b\b\b\b\b\b\b\b\b\b\b\b\b\b\b\b\b\b\b\b\b\b\b\b\b\b\b\b\b\b\b\b\b\b\b\b\b\b\b\b\b\b\b\b\b\b\b\b\b\b\b\b\b\b\b\b\b\b\b\b\b\b\b\b\b\b\b\b\b\b\b\b\b\b\b\b\b\b\b\b\b\b\b\b\b\b\b\b\b\b\b\b\b\b\b\b\b\b\b\b\b\b\b\b\b\b\b\b\b\b\b\b\b\b\b\b\b\b\b\b\b\b\b\b\b\b\b\b\b\b\b\b\b\b\b\b\b\b\b\b\b\b\b\b\b\b\b\b\b\b\b\b\b\b\b\b\b\b\b\b\b\b\b\b\b\b\b\b\b\b\b\b\b\b\b\b\b\b\b\b\b\b\b\b\b\b\b\b\b\b\b\b\b\b\b\b\b\b\b\b\b\b\b\b\b\b\b\b\b\b\b\b\b\b\b\b\b\b\b\b\b\b\b\b\b\b\b\b\b\b\b\b\b\b\b\b\b\b\b\b\b\b\b\b\b\b\b\b\b\b\b\b\b\b\b\b\b\b\b\b\b\b\b\b\b\b\b\b\b\b\b\b\b\b\b\b\b\b\b\b\b\b\b\b\b\b\b\b\b\b\b\b\b\b\b\b\b\b\b\b\b\b\b\b\b\b\b\b\b\b\b\b\b\b\b\b\b\b\b\b\b\b\b\b\b\b\b\b\b\b\b\b\b\b\b\b\b\b\b\b\b\b\b\b\b\b\b\b\b\b\b\b\b\b\b\b\b\b\b\b\b\b\b\b\b\b\b\b\b\b\b\b\b\r",
      " 5/40 [==>...........................] - ETA: 3s - factorized_top_k/top_1_categorical_accuracy: 0.0139 - factorized_top_k/top_5_categorical_accuracy: 0.0642 - factorized_top_k/top_10_categorical_accuracy: 0.1095 - factorized_top_k/top_50_categorical_accuracy: 0.3457 - factorized_top_k/top_100_categorical_accuracy: 0.5300 - loss: 14885.7734 - regularization_loss: 0.0000e+00 - total_loss: 14885.7734"
     ]
    },
    {
     "name": "stderr",
     "output_type": "stream",
     "text": [
      "2023-03-23 17:39:01.101548: W tensorflow/compiler/xla/stream_executor/gpu/asm_compiler.cc:115] *** WARNING *** You are using ptxas 10.1.243, which is older than 11.1. ptxas before 11.1 is known to miscompile XLA code, leading to incorrect results or invalid-address errors.\n",
      "\n",
      "You may not need to update to CUDA 11.1; cherry-picking the ptxas binary is often sufficient.\n",
      "2023-03-23 17:39:01.123854: W tensorflow/compiler/xla/stream_executor/gpu/asm_compiler.cc:115] *** WARNING *** You are using ptxas 10.1.243, which is older than 11.1. ptxas before 11.1 is known to miscompile XLA code, leading to incorrect results or invalid-address errors.\n",
      "\n",
      "You may not need to update to CUDA 11.1; cherry-picking the ptxas binary is often sufficient.\n",
      "2023-03-23 17:39:01.205005: W tensorflow/compiler/xla/stream_executor/gpu/asm_compiler.cc:115] *** WARNING *** You are using ptxas 10.1.243, which is older than 11.1. ptxas before 11.1 is known to miscompile XLA code, leading to incorrect results or invalid-address errors.\n",
      "\n",
      "You may not need to update to CUDA 11.1; cherry-picking the ptxas binary is often sufficient.\n",
      "2023-03-23 17:39:01.279797: W tensorflow/compiler/xla/stream_executor/gpu/asm_compiler.cc:115] *** WARNING *** You are using ptxas 10.1.243, which is older than 11.1. ptxas before 11.1 is known to miscompile XLA code, leading to incorrect results or invalid-address errors.\n",
      "\n",
      "You may not need to update to CUDA 11.1; cherry-picking the ptxas binary is often sufficient.\n"
     ]
    },
    {
     "name": "stdout",
     "output_type": "stream",
     "text": [
      "10/40 [======>.......................] - ETA: 3s - factorized_top_k/top_1_categorical_accuracy: 0.0204 - factorized_top_k/top_5_categorical_accuracy: 0.0906 - factorized_top_k/top_10_categorical_accuracy: 0.1564 - factorized_top_k/top_50_categorical_accuracy: 0.4806 - factorized_top_k/top_100_categorical_accuracy: 0.6690 - loss: 14127.5548 - regularization_loss: 0.0000e+00 - total_loss: 14127.5548"
     ]
    },
    {
     "name": "stderr",
     "output_type": "stream",
     "text": [
      "2023-03-23 17:39:01.434358: W tensorflow/compiler/xla/stream_executor/gpu/asm_compiler.cc:115] *** WARNING *** You are using ptxas 10.1.243, which is older than 11.1. ptxas before 11.1 is known to miscompile XLA code, leading to incorrect results or invalid-address errors.\n",
      "\n",
      "You may not need to update to CUDA 11.1; cherry-picking the ptxas binary is often sufficient.\n",
      "2023-03-23 17:39:01.435965: W tensorflow/compiler/xla/stream_executor/gpu/asm_compiler.cc:115] *** WARNING *** You are using ptxas 10.1.243, which is older than 11.1. ptxas before 11.1 is known to miscompile XLA code, leading to incorrect results or invalid-address errors.\n",
      "\n",
      "You may not need to update to CUDA 11.1; cherry-picking the ptxas binary is often sufficient.\n",
      "2023-03-23 17:39:01.517292: W tensorflow/compiler/xla/stream_executor/gpu/asm_compiler.cc:115] *** WARNING *** You are using ptxas 10.1.243, which is older than 11.1. ptxas before 11.1 is known to miscompile XLA code, leading to incorrect results or invalid-address errors.\n",
      "\n",
      "You may not need to update to CUDA 11.1; cherry-picking the ptxas binary is often sufficient.\n",
      "2023-03-23 17:39:01.599439: W tensorflow/compiler/xla/stream_executor/gpu/asm_compiler.cc:115] *** WARNING *** You are using ptxas 10.1.243, which is older than 11.1. ptxas before 11.1 is known to miscompile XLA code, leading to incorrect results or invalid-address errors.\n",
      "\n",
      "You may not need to update to CUDA 11.1; cherry-picking the ptxas binary is often sufficient.\n"
     ]
    },
    {
     "name": "stdout",
     "output_type": "stream",
     "text": [
      "14/40 [=========>....................] - ETA: 2s - factorized_top_k/top_1_categorical_accuracy: 0.0222 - factorized_top_k/top_5_categorical_accuracy: 0.0984 - factorized_top_k/top_10_categorical_accuracy: 0.1732 - factorized_top_k/top_50_categorical_accuracy: 0.5449 - factorized_top_k/top_100_categorical_accuracy: 0.7330 - loss: 13712.9129 - regularization_loss: 0.0000e+00 - total_loss: 13712.9129"
     ]
    },
    {
     "name": "stderr",
     "output_type": "stream",
     "text": [
      "2023-03-23 17:39:01.755061: W tensorflow/compiler/xla/stream_executor/gpu/asm_compiler.cc:115] *** WARNING *** You are using ptxas 10.1.243, which is older than 11.1. ptxas before 11.1 is known to miscompile XLA code, leading to incorrect results or invalid-address errors.\n",
      "\n",
      "You may not need to update to CUDA 11.1; cherry-picking the ptxas binary is often sufficient.\n",
      "2023-03-23 17:39:01.846829: W tensorflow/compiler/xla/stream_executor/gpu/asm_compiler.cc:115] *** WARNING *** You are using ptxas 10.1.243, which is older than 11.1. ptxas before 11.1 is known to miscompile XLA code, leading to incorrect results or invalid-address errors.\n",
      "\n",
      "You may not need to update to CUDA 11.1; cherry-picking the ptxas binary is often sufficient.\n"
     ]
    },
    {
     "name": "stdout",
     "output_type": "stream",
     "text": [
      "17/40 [===========>..................] - ETA: 2s - factorized_top_k/top_1_categorical_accuracy: 0.0235 - factorized_top_k/top_5_categorical_accuracy: 0.1035 - factorized_top_k/top_10_categorical_accuracy: 0.1820 - factorized_top_k/top_50_categorical_accuracy: 0.5751 - factorized_top_k/top_100_categorical_accuracy: 0.7624 - loss: 13501.7152 - regularization_loss: 0.0000e+00 - total_loss: 13501.7152"
     ]
    },
    {
     "name": "stderr",
     "output_type": "stream",
     "text": [
      "2023-03-23 17:39:01.995190: W tensorflow/compiler/xla/stream_executor/gpu/asm_compiler.cc:115] *** WARNING *** You are using ptxas 10.1.243, which is older than 11.1. ptxas before 11.1 is known to miscompile XLA code, leading to incorrect results or invalid-address errors.\n",
      "\n",
      "You may not need to update to CUDA 11.1; cherry-picking the ptxas binary is often sufficient.\n",
      "2023-03-23 17:39:02.018471: W tensorflow/compiler/xla/stream_executor/gpu/asm_compiler.cc:115] *** WARNING *** You are using ptxas 10.1.243, which is older than 11.1. ptxas before 11.1 is known to miscompile XLA code, leading to incorrect results or invalid-address errors.\n",
      "\n",
      "You may not need to update to CUDA 11.1; cherry-picking the ptxas binary is often sufficient.\n"
     ]
    },
    {
     "name": "stdout",
     "output_type": "stream",
     "text": [
      "23/40 [================>.............] - ETA: 1s - factorized_top_k/top_1_categorical_accuracy: 0.0249 - factorized_top_k/top_5_categorical_accuracy: 0.1106 - factorized_top_k/top_10_categorical_accuracy: 0.1966 - factorized_top_k/top_50_categorical_accuracy: 0.6153 - factorized_top_k/top_100_categorical_accuracy: 0.8007 - loss: 13224.8690 - regularization_loss: 0.0000e+00 - total_loss: 13224.8690"
     ]
    },
    {
     "name": "stderr",
     "output_type": "stream",
     "text": [
      "2023-03-23 17:39:02.442138: W tensorflow/compiler/xla/stream_executor/gpu/asm_compiler.cc:115] *** WARNING *** You are using ptxas 10.1.243, which is older than 11.1. ptxas before 11.1 is known to miscompile XLA code, leading to incorrect results or invalid-address errors.\n",
      "\n",
      "You may not need to update to CUDA 11.1; cherry-picking the ptxas binary is often sufficient.\n"
     ]
    },
    {
     "name": "stdout",
     "output_type": "stream",
     "text": [
      "30/40 [=====================>........] - ETA: 0s - factorized_top_k/top_1_categorical_accuracy: 0.0243 - factorized_top_k/top_5_categorical_accuracy: 0.1138 - factorized_top_k/top_10_categorical_accuracy: 0.2062 - factorized_top_k/top_50_categorical_accuracy: 0.6423 - factorized_top_k/top_100_categorical_accuracy: 0.8270 - loss: 13021.7966 - regularization_loss: 0.0000e+00 - total_loss: 13021.7966"
     ]
    },
    {
     "name": "stderr",
     "output_type": "stream",
     "text": [
      "2023-03-23 17:39:02.931643: W tensorflow/compiler/xla/stream_executor/gpu/asm_compiler.cc:115] *** WARNING *** You are using ptxas 10.1.243, which is older than 11.1. ptxas before 11.1 is known to miscompile XLA code, leading to incorrect results or invalid-address errors.\n",
      "\n",
      "You may not need to update to CUDA 11.1; cherry-picking the ptxas binary is often sufficient.\n",
      "2023-03-23 17:39:03.080510: W tensorflow/compiler/xla/stream_executor/gpu/asm_compiler.cc:115] *** WARNING *** You are using ptxas 10.1.243, which is older than 11.1. ptxas before 11.1 is known to miscompile XLA code, leading to incorrect results or invalid-address errors.\n",
      "\n",
      "You may not need to update to CUDA 11.1; cherry-picking the ptxas binary is often sufficient.\n"
     ]
    },
    {
     "name": "stdout",
     "output_type": "stream",
     "text": [
      "36/40 [==========================>...] - ETA: 0s - factorized_top_k/top_1_categorical_accuracy: 0.0232 - factorized_top_k/top_5_categorical_accuracy: 0.1157 - factorized_top_k/top_10_categorical_accuracy: 0.2115 - factorized_top_k/top_50_categorical_accuracy: 0.6566 - factorized_top_k/top_100_categorical_accuracy: 0.8407 - loss: 12911.4983 - regularization_loss: 0.0000e+00 - total_loss: 12911.4983"
     ]
    },
    {
     "name": "stderr",
     "output_type": "stream",
     "text": [
      "2023-03-23 17:39:03.360493: W tensorflow/compiler/xla/stream_executor/gpu/asm_compiler.cc:115] *** WARNING *** You are using ptxas 10.1.243, which is older than 11.1. ptxas before 11.1 is known to miscompile XLA code, leading to incorrect results or invalid-address errors.\n",
      "\n",
      "You may not need to update to CUDA 11.1; cherry-picking the ptxas binary is often sufficient.\n"
     ]
    },
    {
     "name": "stdout",
     "output_type": "stream",
     "text": [
      "40/40 [==============================] - 6s 82ms/step - factorized_top_k/top_1_categorical_accuracy: 0.0225 - factorized_top_k/top_5_categorical_accuracy: 0.1168 - factorized_top_k/top_10_categorical_accuracy: 0.2133 - factorized_top_k/top_50_categorical_accuracy: 0.6627 - factorized_top_k/top_100_categorical_accuracy: 0.8460 - loss: 12262.6873 - regularization_loss: 0.0000e+00 - total_loss: 12262.6873\n",
      "Epoch 2/3\n"
     ]
    },
    {
     "name": "stderr",
     "output_type": "stream",
     "text": [
      "2023-03-23 17:39:03.730923: W tensorflow/compiler/xla/stream_executor/gpu/asm_compiler.cc:115] *** WARNING *** You are using ptxas 10.1.243, which is older than 11.1. ptxas before 11.1 is known to miscompile XLA code, leading to incorrect results or invalid-address errors.\n",
      "\n",
      "You may not need to update to CUDA 11.1; cherry-picking the ptxas binary is often sufficient.\n",
      "2023-03-23 17:39:03.811295: W tensorflow/compiler/xla/stream_executor/gpu/asm_compiler.cc:115] *** WARNING *** You are using ptxas 10.1.243, which is older than 11.1. ptxas before 11.1 is known to miscompile XLA code, leading to incorrect results or invalid-address errors.\n",
      "\n",
      "You may not need to update to CUDA 11.1; cherry-picking the ptxas binary is often sufficient.\n",
      "2023-03-23 17:39:03.884513: W tensorflow/compiler/xla/stream_executor/gpu/asm_compiler.cc:115] *** WARNING *** You are using ptxas 10.1.243, which is older than 11.1. ptxas before 11.1 is known to miscompile XLA code, leading to incorrect results or invalid-address errors.\n",
      "\n",
      "You may not need to update to CUDA 11.1; cherry-picking the ptxas binary is often sufficient.\n"
     ]
    },
    {
     "name": "stdout",
     "output_type": "stream",
     "text": [
      "10/40 [======>.......................] - ETA: 2s - factorized_top_k/top_1_categorical_accuracy: 0.0193 - factorized_top_k/top_5_categorical_accuracy: 0.1437 - factorized_top_k/top_10_categorical_accuracy: 0.2651 - factorized_top_k/top_50_categorical_accuracy: 0.7496 - factorized_top_k/top_100_categorical_accuracy: 0.9185 - loss: 12267.3222 - regularization_loss: 0.0000e+00 - total_loss: 12267.3222"
     ]
    },
    {
     "name": "stderr",
     "output_type": "stream",
     "text": [
      "2023-03-23 17:39:04.837071: W tensorflow/compiler/xla/stream_executor/gpu/asm_compiler.cc:115] *** WARNING *** You are using ptxas 10.1.243, which is older than 11.1. ptxas before 11.1 is known to miscompile XLA code, leading to incorrect results or invalid-address errors.\n",
      "\n",
      "You may not need to update to CUDA 11.1; cherry-picking the ptxas binary is often sufficient.\n"
     ]
    },
    {
     "name": "stdout",
     "output_type": "stream",
     "text": [
      "20/40 [==============>...............] - ETA: 1s - factorized_top_k/top_1_categorical_accuracy: 0.0222 - factorized_top_k/top_5_categorical_accuracy: 0.1478 - factorized_top_k/top_10_categorical_accuracy: 0.2662 - factorized_top_k/top_50_categorical_accuracy: 0.7512 - factorized_top_k/top_100_categorical_accuracy: 0.9195 - loss: 12247.9079 - regularization_loss: 0.0000e+00 - total_loss: 12247.9079"
     ]
    },
    {
     "name": "stderr",
     "output_type": "stream",
     "text": [
      "2023-03-23 17:39:05.541503: W tensorflow/compiler/xla/stream_executor/gpu/asm_compiler.cc:115] *** WARNING *** You are using ptxas 10.1.243, which is older than 11.1. ptxas before 11.1 is known to miscompile XLA code, leading to incorrect results or invalid-address errors.\n",
      "\n",
      "You may not need to update to CUDA 11.1; cherry-picking the ptxas binary is often sufficient.\n"
     ]
    },
    {
     "name": "stdout",
     "output_type": "stream",
     "text": [
      "31/40 [======================>.......] - ETA: 0s - factorized_top_k/top_1_categorical_accuracy: 0.0206 - factorized_top_k/top_5_categorical_accuracy: 0.1466 - factorized_top_k/top_10_categorical_accuracy: 0.2655 - factorized_top_k/top_50_categorical_accuracy: 0.7522 - factorized_top_k/top_100_categorical_accuracy: 0.9198 - loss: 12247.2173 - regularization_loss: 0.0000e+00 - total_loss: 12247.2173"
     ]
    },
    {
     "name": "stderr",
     "output_type": "stream",
     "text": [
      "2023-03-23 17:39:06.307571: W tensorflow/compiler/xla/stream_executor/gpu/asm_compiler.cc:115] *** WARNING *** You are using ptxas 10.1.243, which is older than 11.1. ptxas before 11.1 is known to miscompile XLA code, leading to incorrect results or invalid-address errors.\n",
      "\n",
      "You may not need to update to CUDA 11.1; cherry-picking the ptxas binary is often sufficient.\n"
     ]
    },
    {
     "name": "stdout",
     "output_type": "stream",
     "text": [
      "39/40 [============================>.] - ETA: 0s - factorized_top_k/top_1_categorical_accuracy: 0.0205 - factorized_top_k/top_5_categorical_accuracy: 0.1461 - factorized_top_k/top_10_categorical_accuracy: 0.2658 - factorized_top_k/top_50_categorical_accuracy: 0.7525 - factorized_top_k/top_100_categorical_accuracy: 0.9201 - loss: 12243.6147 - regularization_loss: 0.0000e+00 - total_loss: 12243.6147"
     ]
    },
    {
     "name": "stderr",
     "output_type": "stream",
     "text": [
      "2023-03-23 17:39:06.921053: W tensorflow/compiler/xla/stream_executor/gpu/asm_compiler.cc:115] *** WARNING *** You are using ptxas 10.1.243, which is older than 11.1. ptxas before 11.1 is known to miscompile XLA code, leading to incorrect results or invalid-address errors.\n",
      "\n",
      "You may not need to update to CUDA 11.1; cherry-picking the ptxas binary is often sufficient.\n",
      "2023-03-23 17:39:07.069139: W tensorflow/compiler/xla/stream_executor/gpu/asm_compiler.cc:115] *** WARNING *** You are using ptxas 10.1.243, which is older than 11.1. ptxas before 11.1 is known to miscompile XLA code, leading to incorrect results or invalid-address errors.\n",
      "\n",
      "You may not need to update to CUDA 11.1; cherry-picking the ptxas binary is often sufficient.\n"
     ]
    },
    {
     "name": "stdout",
     "output_type": "stream",
     "text": [
      "40/40 [==============================] - 3s 72ms/step - factorized_top_k/top_1_categorical_accuracy: 0.0205 - factorized_top_k/top_5_categorical_accuracy: 0.1462 - factorized_top_k/top_10_categorical_accuracy: 0.2657 - factorized_top_k/top_50_categorical_accuracy: 0.7525 - factorized_top_k/top_100_categorical_accuracy: 0.9201 - loss: 11665.9942 - regularization_loss: 0.0000e+00 - total_loss: 11665.9942\n",
      "Epoch 3/3\n"
     ]
    },
    {
     "name": "stderr",
     "output_type": "stream",
     "text": [
      "2023-03-23 17:39:07.143215: W tensorflow/compiler/xla/stream_executor/gpu/asm_compiler.cc:115] *** WARNING *** You are using ptxas 10.1.243, which is older than 11.1. ptxas before 11.1 is known to miscompile XLA code, leading to incorrect results or invalid-address errors.\n",
      "\n",
      "You may not need to update to CUDA 11.1; cherry-picking the ptxas binary is often sufficient.\n"
     ]
    },
    {
     "name": "stdout",
     "output_type": "stream",
     "text": [
      "28/40 [====================>.........] - ETA: 0s - factorized_top_k/top_1_categorical_accuracy: 0.0182 - factorized_top_k/top_5_categorical_accuracy: 0.1555 - factorized_top_k/top_10_categorical_accuracy: 0.2808 - factorized_top_k/top_50_categorical_accuracy: 0.7719 - factorized_top_k/top_100_categorical_accuracy: 0.9277 - loss: 12137.4922 - regularization_loss: 0.0000e+00 - total_loss: 12137.4922"
     ]
    },
    {
     "name": "stderr",
     "output_type": "stream",
     "text": [
      "2023-03-23 17:39:09.354482: W tensorflow/compiler/xla/stream_executor/gpu/asm_compiler.cc:115] *** WARNING *** You are using ptxas 10.1.243, which is older than 11.1. ptxas before 11.1 is known to miscompile XLA code, leading to incorrect results or invalid-address errors.\n",
      "\n",
      "You may not need to update to CUDA 11.1; cherry-picking the ptxas binary is often sufficient.\n"
     ]
    },
    {
     "name": "stdout",
     "output_type": "stream",
     "text": [
      "40/40 [==============================] - 3s 71ms/step - factorized_top_k/top_1_categorical_accuracy: 0.0175 - factorized_top_k/top_5_categorical_accuracy: 0.1541 - factorized_top_k/top_10_categorical_accuracy: 0.2794 - factorized_top_k/top_50_categorical_accuracy: 0.7703 - factorized_top_k/top_100_categorical_accuracy: 0.9261 - loss: 11574.1082 - regularization_loss: 0.0000e+00 - total_loss: 11574.1082\n"
     ]
    },
    {
     "name": "stderr",
     "output_type": "stream",
     "text": [
      "2023-03-23 17:39:10.327258: W tensorflow/compiler/xla/stream_executor/gpu/asm_compiler.cc:115] *** WARNING *** You are using ptxas 10.1.243, which is older than 11.1. ptxas before 11.1 is known to miscompile XLA code, leading to incorrect results or invalid-address errors.\n",
      "\n",
      "You may not need to update to CUDA 11.1; cherry-picking the ptxas binary is often sufficient.\n",
      "2023-03-23 17:39:10.401616: W tensorflow/compiler/xla/stream_executor/gpu/asm_compiler.cc:115] *** WARNING *** You are using ptxas 10.1.243, which is older than 11.1. ptxas before 11.1 is known to miscompile XLA code, leading to incorrect results or invalid-address errors.\n",
      "\n",
      "You may not need to update to CUDA 11.1; cherry-picking the ptxas binary is often sufficient.\n"
     ]
    },
    {
     "data": {
      "text/plain": [
       "<keras.callbacks.History at 0x7fb50f661a60>"
      ]
     },
     "execution_count": 28,
     "metadata": {},
     "output_type": "execute_result"
    }
   ],
   "source": [
    "model.fit(cached_train, epochs=3)"
   ]
  },
  {
   "cell_type": "code",
   "execution_count": 29,
   "id": "09f14e1b",
   "metadata": {},
   "outputs": [
    {
     "data": {
      "text/plain": [
       "<tensorflow_recommenders.layers.factorized_top_k.BruteForce at 0x7fb598699c70>"
      ]
     },
     "execution_count": 29,
     "metadata": {},
     "output_type": "execute_result"
    }
   ],
   "source": [
    "# Create a model that takes in raw query features, and\n",
    "index = tfrs.layers.factorized_top_k.BruteForce(model.movie_1_model, k=20)\n",
    "# recommends movies out of the entire movies dataset.\n",
    "index.index_from_dataset(\n",
    "  jobs.batch(100).map(lambda x: (x[\"item2\"], model.movie_2_model(x)))\n",
    ")"
   ]
  },
  {
   "cell_type": "code",
   "execution_count": 30,
   "id": "b35663b2",
   "metadata": {},
   "outputs": [
    {
     "name": "stdout",
     "output_type": "stream",
     "text": [
      "{'item1': <tf.Tensor: shape=(), dtype=string, numpy=b'Job_Junior_Devops_HCM_Junior_GI4EKP'>, 'title_item1': <tf.Tensor: shape=(), dtype=string, numpy=b'Junior Devops'>, 'location_item1': <tf.Tensor: shape=(), dtype=string, numpy=b'HCM'>, 'level_item1': <tf.Tensor: shape=(), dtype=string, numpy=b'Junior'>, 'item2': <tf.Tensor: shape=(), dtype=string, numpy=b'Job_Junior_Devops_HCM_Junior_H6J1UT'>, 'title_item2': <tf.Tensor: shape=(), dtype=string, numpy=b'Junior Devops'>, 'location_item2': <tf.Tensor: shape=(), dtype=string, numpy=b'HCM'>, 'level_item2': <tf.Tensor: shape=(), dtype=string, numpy=b'Junior'>}\n"
     ]
    }
   ],
   "source": [
    "for i in train.take(1):\n",
    "    print(i)"
   ]
  },
  {
   "cell_type": "code",
   "execution_count": 31,
   "id": "f33a46dd",
   "metadata": {},
   "outputs": [
    {
     "data": {
      "text/plain": [
       "array([[b'Job_Fresher_Backend_Engineer_DN_Fresher_FL62TZ',\n",
       "        b'Job_Fresher_Backend_Engineer_other_Fresher_7L80C5',\n",
       "        b'Job_Junior_Backend_Developer_DN_Junior_45JQQ2',\n",
       "        b'Job_Fresher_Backend_Developer_DN_Fresher_3JKXHO',\n",
       "        b'Job_Fresher_Backend_Engineer_other_Fresher_0AOC9I',\n",
       "        b'Job_Junior_Backend_Developer_DN_Junior_2OOEQN',\n",
       "        b'Job_Fresher_Backend_Developer_other_Fresher_6BH3Q5',\n",
       "        b'Job_Fresher_Devops_DN_Fresher_KMTANQ',\n",
       "        b'Job_Junior_Backend_Engineer_other_Junior_TVC2DO',\n",
       "        b'Job_Fresher_Backend_Engineer_other_Fresher_7XN3IV',\n",
       "        b'Job_Fresher_Backend_Engineer_other_Fresher_5EU5MS',\n",
       "        b'Job_Fresher_Backend_Engineer_other_Fresher_UCXBIJ',\n",
       "        b'Job_Fresher_Backend_Engineer_other_Fresher_9UEC0K',\n",
       "        b'Job_Fresher_Backend_Developer_other_Fresher_HIVJ24',\n",
       "        b'Job_Junior_Backend_Engineer_DN_Junior_MTBUHR',\n",
       "        b'Job_Junior_Backend_Developer_other_Junior_CMV56I',\n",
       "        b'Job_Fresher_Backend_Engineer_other_Fresher_U96NGQ',\n",
       "        b'Job_Fresher_Backend_Engineer_other_Fresher_QME5O3',\n",
       "        b'Job_Fresher_Backend_Developer_HN_Fresher_R0M5GA',\n",
       "        b'Job_Middle_Backend_Developer_DN_Middle_QPH0R2']], dtype=object)"
      ]
     },
     "execution_count": 31,
     "metadata": {},
     "output_type": "execute_result"
    }
   ],
   "source": [
    "_, pred = index({\"item1\": np.array([\"Job_Fresher_Backend_Engineer_DN_Fresher_FL62TZ\"]),\n",
    "                 \"location_item1\": np.array([\"DN\"]),\n",
    "                 \"level_item1\": np.array([\"Fresher\"])\n",
    "                })\n",
    "pred.numpy()"
   ]
  },
  {
   "cell_type": "code",
   "execution_count": 32,
   "id": "90efeb03",
   "metadata": {},
   "outputs": [
    {
     "data": {
      "text/html": [
       "<div>\n",
       "<style scoped>\n",
       "    .dataframe tbody tr th:only-of-type {\n",
       "        vertical-align: middle;\n",
       "    }\n",
       "\n",
       "    .dataframe tbody tr th {\n",
       "        vertical-align: top;\n",
       "    }\n",
       "\n",
       "    .dataframe thead th {\n",
       "        text-align: right;\n",
       "    }\n",
       "</style>\n",
       "<table border=\"1\" class=\"dataframe\">\n",
       "  <thead>\n",
       "    <tr style=\"text-align: right;\">\n",
       "      <th></th>\n",
       "      <th>item1</th>\n",
       "      <th>item2</th>\n",
       "    </tr>\n",
       "  </thead>\n",
       "  <tbody>\n",
       "    <tr>\n",
       "      <th>0</th>\n",
       "      <td>Job_Fresher_Backend_Engineer_DN_Fresher_FL62TZ</td>\n",
       "      <td>Job_Fresher_Backend_Engineer_other_Fresher_F6SGNV</td>\n",
       "    </tr>\n",
       "    <tr>\n",
       "      <th>1</th>\n",
       "      <td>Job_Fresher_Backend_Engineer_DN_Fresher_FL62TZ</td>\n",
       "      <td>Job_Fresher_Backend_Engineer_other_Fresher_U96NGQ</td>\n",
       "    </tr>\n",
       "    <tr>\n",
       "      <th>25</th>\n",
       "      <td>Job_Fresher_Backend_Engineer_DN_Fresher_FL62TZ</td>\n",
       "      <td>Job_Fresher_Backend_Engineer_other_Fresher_7L80C5</td>\n",
       "    </tr>\n",
       "    <tr>\n",
       "      <th>26</th>\n",
       "      <td>Job_Fresher_Backend_Engineer_DN_Fresher_FL62TZ</td>\n",
       "      <td>Job_Fresher_Backend_Developer_HN_Fresher_R0M5GA</td>\n",
       "    </tr>\n",
       "    <tr>\n",
       "      <th>27</th>\n",
       "      <td>Job_Fresher_Backend_Engineer_DN_Fresher_FL62TZ</td>\n",
       "      <td>Job_Fresher_Backend_Engineer_other_Fresher_QME5O3</td>\n",
       "    </tr>\n",
       "    <tr>\n",
       "      <th>...</th>\n",
       "      <td>...</td>\n",
       "      <td>...</td>\n",
       "    </tr>\n",
       "    <tr>\n",
       "      <th>105221</th>\n",
       "      <td>Job_Fresher_Backend_Engineer_DN_Fresher_FL62TZ</td>\n",
       "      <td>Job_Middle_Backend_Developer_HN_Middle_V9L3C9</td>\n",
       "    </tr>\n",
       "    <tr>\n",
       "      <th>105429</th>\n",
       "      <td>Job_Fresher_Backend_Engineer_DN_Fresher_FL62TZ</td>\n",
       "      <td>Job_Middle_Backend_Developer_other_Middle_D92DMR</td>\n",
       "    </tr>\n",
       "    <tr>\n",
       "      <th>105430</th>\n",
       "      <td>Job_Fresher_Backend_Engineer_DN_Fresher_FL62TZ</td>\n",
       "      <td>Job_Fresher_Backend_Developer_other_Fresher_HI...</td>\n",
       "    </tr>\n",
       "    <tr>\n",
       "      <th>105431</th>\n",
       "      <td>Job_Fresher_Backend_Engineer_DN_Fresher_FL62TZ</td>\n",
       "      <td>Job_Middle_Backend_Engineer_other_Middle_3MBKEK</td>\n",
       "    </tr>\n",
       "    <tr>\n",
       "      <th>105432</th>\n",
       "      <td>Job_Fresher_Backend_Engineer_DN_Fresher_FL62TZ</td>\n",
       "      <td>Job_Fresher_Backend_Developer_other_Fresher_LZ...</td>\n",
       "    </tr>\n",
       "  </tbody>\n",
       "</table>\n",
       "<p>477 rows × 2 columns</p>\n",
       "</div>"
      ],
      "text/plain": [
       "                                                 item1  \\\n",
       "0       Job_Fresher_Backend_Engineer_DN_Fresher_FL62TZ   \n",
       "1       Job_Fresher_Backend_Engineer_DN_Fresher_FL62TZ   \n",
       "25      Job_Fresher_Backend_Engineer_DN_Fresher_FL62TZ   \n",
       "26      Job_Fresher_Backend_Engineer_DN_Fresher_FL62TZ   \n",
       "27      Job_Fresher_Backend_Engineer_DN_Fresher_FL62TZ   \n",
       "...                                                ...   \n",
       "105221  Job_Fresher_Backend_Engineer_DN_Fresher_FL62TZ   \n",
       "105429  Job_Fresher_Backend_Engineer_DN_Fresher_FL62TZ   \n",
       "105430  Job_Fresher_Backend_Engineer_DN_Fresher_FL62TZ   \n",
       "105431  Job_Fresher_Backend_Engineer_DN_Fresher_FL62TZ   \n",
       "105432  Job_Fresher_Backend_Engineer_DN_Fresher_FL62TZ   \n",
       "\n",
       "                                                    item2  \n",
       "0       Job_Fresher_Backend_Engineer_other_Fresher_F6SGNV  \n",
       "1       Job_Fresher_Backend_Engineer_other_Fresher_U96NGQ  \n",
       "25      Job_Fresher_Backend_Engineer_other_Fresher_7L80C5  \n",
       "26        Job_Fresher_Backend_Developer_HN_Fresher_R0M5GA  \n",
       "27      Job_Fresher_Backend_Engineer_other_Fresher_QME5O3  \n",
       "...                                                   ...  \n",
       "105221      Job_Middle_Backend_Developer_HN_Middle_V9L3C9  \n",
       "105429   Job_Middle_Backend_Developer_other_Middle_D92DMR  \n",
       "105430  Job_Fresher_Backend_Developer_other_Fresher_HI...  \n",
       "105431    Job_Middle_Backend_Engineer_other_Middle_3MBKEK  \n",
       "105432  Job_Fresher_Backend_Developer_other_Fresher_LZ...  \n",
       "\n",
       "[477 rows x 2 columns]"
      ]
     },
     "execution_count": 32,
     "metadata": {},
     "output_type": "execute_result"
    }
   ],
   "source": [
    "df_2[df_2[\"item1\"]==\"Job_Fresher_Backend_Engineer_DN_Fresher_FL62TZ\"][[\"item1\", \"item2\"]]"
   ]
  }
 ],
 "metadata": {
  "kernelspec": {
   "display_name": "Python 3 (ipykernel)",
   "language": "python",
   "name": "python3"
  },
  "language_info": {
   "codemirror_mode": {
    "name": "ipython",
    "version": 3
   },
   "file_extension": ".py",
   "mimetype": "text/x-python",
   "name": "python",
   "nbconvert_exporter": "python",
   "pygments_lexer": "ipython3",
   "version": "3.9.16"
  }
 },
 "nbformat": 4,
 "nbformat_minor": 5
}
